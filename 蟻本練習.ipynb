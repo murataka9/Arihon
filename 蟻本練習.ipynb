{
  "nbformat": 4,
  "nbformat_minor": 0,
  "metadata": {
    "colab": {
      "provenance": [],
      "authorship_tag": "ABX9TyMFs0yCg30OfOHokhjV8aDg",
      "include_colab_link": true
    },
    "kernelspec": {
      "name": "python3",
      "display_name": "Python 3"
    },
    "language_info": {
      "name": "python"
    }
  },
  "cells": [
    {
      "cell_type": "markdown",
      "metadata": {
        "id": "view-in-github",
        "colab_type": "text"
      },
      "source": [
        "<a href=\"https://colab.research.google.com/github/murataka9/Arihon/blob/main/%E8%9F%BB%E6%9C%AC%E7%B7%B4%E7%BF%92.ipynb\" target=\"_parent\"><img src=\"https://colab.research.google.com/assets/colab-badge.svg\" alt=\"Open In Colab\"/></a>"
      ]
    },
    {
      "cell_type": "markdown",
      "source": [
        "実行時間制限が 1 秒の場合. 入力をN^2で計算\n",
        "\n",
        "  1,000,000     余裕を持って間に合う。  \n",
        "  10,000,000    おそらく間に合う。  \n",
        "  100,000,000   非常にシンプルな処理でない限り厳しい。  "
      ],
      "metadata": {
        "id": "XKACqrPj5WSw"
      }
    },
    {
      "cell_type": "markdown",
      "source": [
        "- 1-6"
      ],
      "metadata": {
        "id": "QgogrIFi6pri"
      }
    },
    {
      "cell_type": "code",
      "execution_count": null,
      "metadata": {
        "id": "QgyL2NdI5PD1"
      },
      "outputs": [],
      "source": []
    },
    {
      "cell_type": "code",
      "source": [],
      "metadata": {
        "id": "mYncv5YE5pCw"
      },
      "execution_count": null,
      "outputs": []
    },
    {
      "cell_type": "code",
      "source": [],
      "metadata": {
        "id": "FC82F1RE6rLG"
      },
      "execution_count": null,
      "outputs": []
    }
  ]
}